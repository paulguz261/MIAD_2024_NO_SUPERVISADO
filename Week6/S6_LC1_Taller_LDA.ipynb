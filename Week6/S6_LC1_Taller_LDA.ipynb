{
 "cells": [
  {
   "cell_type": "markdown",
   "metadata": {},
   "source": [
    "<div >\n",
    "<img src = \"figs/ans_banner_1920x200.png\" />\n",
    "</div>"
   ]
  },
  {
   "cell_type": "markdown",
   "metadata": {},
   "source": [
    "# Caso-taller:  Recomendando el Blog de  Hernán Casciari \n",
    "\n",
    "\n",
    "[Hernán Casciari](https://hernancasciari.com/#bio), es un escritor argentino, que escribe blog posts con cuentos e historias  relacionadas con el futbol, su vida, infancia, y relaciones familiares con toques de ficción. Este [blog](https://hernancasciari.com/blog/) es  tan interesantes que en 2005 fue premiado como “El mejor blog del mundo” por Deutsche Welle de Alemania. \n",
    "\n",
    "El objetivo de este caso-taller es construir un sistema de recomendación basado en los contenidos de los posts utilizando similitud de las palabras usadas o temas de los cuentos."
   ]
  },
  {
   "cell_type": "markdown",
   "metadata": {},
   "source": [
    "## Instrucciones generales\n",
    "\n",
    "1. Para desarrollar el *cuaderno* primero debe descargarlo.\n",
    "\n",
    "2. Para responder cada inciso deberá utilizar el espacio debidamente especificado.\n",
    "\n",
    "3. La actividad será calificada sólo si sube el *cuaderno* de jupyter notebook con extensión `.ipynb` en la actividad designada como \"Revisión por el compañero.\"\n",
    "\n",
    "4. El archivo entregado debe poder ser ejecutado localmente por los pares. Sea cuidadoso con la especificación de la ubicación de los archivos de soporte, guarde la carpeta de datos  en la misma ruta de acceso del cuaderno, por ejemplo: `data`."
   ]
  },
  {
   "cell_type": "markdown",
   "metadata": {},
   "source": [
    "## Desarrollo\n"
   ]
  },
  {
   "cell_type": "markdown",
   "metadata": {},
   "source": [
    "### 1. Carga de datos \n",
    "\n",
    "En la carpeta `data` se encuentran el archivo `blog_casciari.csv` con el título, la fecha de publicación, y el contenido de los cuentos publicados en el blog  de sr. Casciari. Cargue estos datos en su *cuaderno* y reporte brevemente el contenido de la base.\n",
    "   "
   ]
  },
  {
   "cell_type": "code",
   "execution_count": 2,
   "id": "58984c56",
   "metadata": {},
   "outputs": [],
   "source": [
    "import pandas as pd\n",
    "import numpy as np\n",
    "import re\n",
    "import unidecode\n",
    "import matplotlib.pyplot as plt\n",
    "import seaborn as sns\n",
    "import spacy\n",
    "from sklearn.feature_extraction.text import CountVectorizer"
   ]
  },
  {
   "cell_type": "code",
   "execution_count": 3,
   "metadata": {},
   "outputs": [
    {
     "name": "stdout",
     "output_type": "stream",
     "text": [
      "cantidad de blogs: 520\n",
      "cantidad de caracteres en el blogs mas corto: 95\n",
      "cantidad promedio de caracteres en los blog: 882.0\n",
      "desviacion estandar de cantidad de caracteres en los blog: 623.0\n",
      "cantidad de caracteres en el blogs mas largo: 5603\n"
     ]
    },
    {
     "data": {
      "text/html": [
       "<div>\n",
       "<style scoped>\n",
       "    .dataframe tbody tr th:only-of-type {\n",
       "        vertical-align: middle;\n",
       "    }\n",
       "\n",
       "    .dataframe tbody tr th {\n",
       "        vertical-align: top;\n",
       "    }\n",
       "\n",
       "    .dataframe thead th {\n",
       "        text-align: right;\n",
       "    }\n",
       "</style>\n",
       "<table border=\"1\" class=\"dataframe\">\n",
       "  <thead>\n",
       "    <tr style=\"text-align: right;\">\n",
       "      <th></th>\n",
       "      <th>titulo</th>\n",
       "      <th>fecha</th>\n",
       "      <th>cuento</th>\n",
       "    </tr>\n",
       "  </thead>\n",
       "  <tbody>\n",
       "    <tr>\n",
       "      <th>0</th>\n",
       "      <td>El rincón blanco</td>\n",
       "      <td>1/11/08</td>\n",
       "      <td>De pronto yo estaba en el hogar donde pasé la ...</td>\n",
       "    </tr>\n",
       "    <tr>\n",
       "      <th>1</th>\n",
       "      <td>Mínimos avances en la cama</td>\n",
       "      <td>1/24/08</td>\n",
       "      <td>Menos la cama, todo ha mejorado en este mundo....</td>\n",
       "    </tr>\n",
       "  </tbody>\n",
       "</table>\n",
       "</div>"
      ],
      "text/plain": [
       "                       titulo    fecha  \\\n",
       "0            El rincón blanco  1/11/08   \n",
       "1  Mínimos avances en la cama  1/24/08   \n",
       "\n",
       "                                              cuento  \n",
       "0  De pronto yo estaba en el hogar donde pasé la ...  \n",
       "1  Menos la cama, todo ha mejorado en este mundo....  "
      ]
     },
     "execution_count": 3,
     "metadata": {},
     "output_type": "execute_result"
    }
   ],
   "source": [
    "df_blog_raw = pd.read_csv(\"data/blog_casciari.csv\")\n",
    "\n",
    "print(\"cantidad de blogs: {}\".format(df_blog_raw.shape[0]))\n",
    "\n",
    "\n",
    "prom_cantidad_palabras_blog = np.round(df_blog_raw[\"cuento\"].apply(lambda x: len(x.split())).mean(),0)\n",
    "std_cantidad_palabras_blog =  np.round(df_blog_raw[\"cuento\"].apply(lambda x: len(x.split())).std(),0)\n",
    "max_cantidad_palabras_blog =  df_blog_raw[\"cuento\"].apply(lambda x: len(x.split())).max()\n",
    "min_cantidad_palabras_blog =  df_blog_raw[\"cuento\"].apply(lambda x: len(x.split())).min()\n",
    "\n",
    "print(\"cantidad de caracteres en el blogs mas corto: {}\".format(min_cantidad_palabras_blog))\n",
    "print(\"cantidad promedio de caracteres en los blog: {}\".format(prom_cantidad_palabras_blog))\n",
    "print(\"desviacion estandar de cantidad de caracteres en los blog: {}\".format(std_cantidad_palabras_blog))\n",
    "print(\"cantidad de caracteres en el blogs mas largo: {}\".format(max_cantidad_palabras_blog))\n",
    "\n",
    "df_blog_raw.head(2)"
   ]
  },
  {
   "cell_type": "markdown",
   "metadata": {},
   "source": [
    "(Utilice este espacio para describir el procedimiento, análisis, y conclusiones)"
   ]
  },
  {
   "cell_type": "markdown",
   "metadata": {},
   "source": [
    "### 2. Homogenización de textos\n",
    "\n",
    "Para cumplir con el objetivo de generar recomendaciones en esta sección debe preparar los posts para poder ser utilizados en su sistema de recomendación. Para ello, \"limpie\" y \"tokenize\" cada uno de los cuentos, describiendo detalladamente los pasos que realizo y si transformó o eliminó ciertas palabras. Para asistirlo en la tarea he creado listas de *stopwords* que están disponibles en la carpeta `data`. En su procedimiento ilustre la limpieza con el cuento 'La venganza del metegol'. (En su limpieza recuerde que el objetivo es generar recomendaciones a partir de la similitud de las palabras o temas de los cuentos)"
   ]
  },
  {
   "cell_type": "code",
   "execution_count": 4,
   "id": "c8d441a0",
   "metadata": {},
   "outputs": [
    {
     "name": "stdout",
     "output_type": "stream",
     "text": [
      "['El mes pasado me invitaron a presentar un libro en Buenos Aires. Y como era un libro sobre fútbol, al final de la charla el director de la editorial nos invitó a jugar un partido de metegol (ese invento español al que sus creadores llaman, erróneamente, futbolín). Hacía años que no jugaba al metegol, pero por suerte me tocó de compañero un filósofo muy prestigioso y pudimos ganar. Nuestros contrincantes eran el autor del libro y el director de la editorial. De los tres, a este último lo conocía desde la juventud.\\nJugamos dos partidos enteros y los destrozamos con una facilidad pasmosa: hacía años que no practicaba este falso deporte de muñecas y reflejos, pero descubrí que no había perdido las mañas. Eso me hizo sentir bien: a mi edad cualquier destreza que mantengamos indemne, por más pelotuda que sea, se convierte en una gran noticia.\\nDespués de la charla algunos fotógrafos hicieron imágenes del partido de metegol y las subieron a Twitter.\\n— Estadio: Librería Gandhi, Buenos Aires. Locales: A la izquierda, Alejandro Duchini y Gonzalo Garcés. Vistantes: A la derecha, Tomás Abraham y Hernán Casciari. Resultado: 1º match: 1-4; 2º match 0-4. Paliza.\\nCuando volví a casa recibí un mail de Chiri, mi mejor amigo desde la infancia. Me decía que había visto las fotos y se sorprendía de que mi compañero haya sido el mismo filósofo al que admirábamos en la juventud. «Vos, jugando al metegol con Tomás Abraham; solamente puede pasar en un sueño», me decía. Y era verdad. En un momento, durante el partido, me imaginé con diecisiete años mirando por la ventana de la librería Gandhi esa escena del futuro, y sonreí.\\nEse recuerdo momentáneo me desconcentró del juego y justo en ese momento me hicieron un gol (el único que recibí esa noche; yo defendía la zaga). Fue un gol con molinete de Gonzalo Garcés, el director de la editorial Galerna, y él, con injusticia, me lo festejó en la cara de un modo muy antideportivo, como si se tratara de la final del mundo.\\nEntonces me vino a la cabeza algo que ya conté muchas veces en sobremesas con amigos, y que ocurrió la noche en que lo conocí a Gonzalo, cuando los dos éramos adolescentes.\\nEn ese entonces (sería el año noventa y uno) me gustaba mucho pasar los veranos en Mercedes, mi pueblo, porque mis padres se iban de vacaciones y me dejaban la casa sola. Mi amigo Chiri llegaba los viernes muy de madrugada, y pasaba por casa para ver si yo estaba despierto. Si veía luz en la habitación me tocaba timbre y nos emborrachábamos por ahí. Si no veía luz, entraba por la ventana de mi cuarto a oscuras y me despertaba de maneras horribles: a veces me tiraba agua en la cara, o me pegaba una patada en la panza. O me metía un gato entre las cobijas. O se subía arriba de las mantas y empezaba a bombearme desde atrás como un amante desenfrenado. El objetivo era despertarme siempre de una manera creativa.\\nPero cierto fin de semana pasó que, por la tarde, conocí a Gonzalo Garcés (que entonces era una promesa de escritor de diecisiete años) y lo invité a pasar un fin de semana a Mercedes. Gonzalo ya era entonces el cachorro de lo que es hoy: una persona fina, siempre muy bien bañado, de clase acomodada y sereno. De hecho, se había convertido un año antes, a los dieciséis, en el crítico literario más joven en la historia del diario porteño La Nación. Un prodigio, Garcés. Siempre lo fue.\\nNos conocimos por casualidad porque aquel año integramos una antología de «jóvenes promesas literarias» de entonces, y se había publicado un libro con veinte autores adolescentes. Yo leí su cuento y fue el único que me gustó, entonces lo llamé por teléfono y lo invité a casa para charlar. Estuvo en Mercedes ese fin de semana. Lo llevé al carnaval del pueblo, que es uno de los carnavales menos luminosos y más tristes de la provincia de Buenos Aires.\\nLa pasamos muy bien todo ese día, hasta el accidente nocturno. Gonzalo Garcés se quedó a dormir en casa y le ofrecí mi habitación. Yo me fui a dormir la borrachera a la cama de mis padres, sin recordar la rutina de Chiri por las madrugadas. Esa noche Gonzalo, un chico buen mozo y frágil, se acostó y apagó la luz en una ciudad desconocida de la llanura pampeana, y se quedó dormido, sin saber que en medio de la noche un borracho joven entraría a oscuras por la ventana y se subiría encima suyo para sodomizarlo.\\nYo no escuché el grito, porque la habitación de mis padres quedaba lejos. No me enteré de nada. Pero a la mañana siguiente encontré a Gonzalo en la cocina. Desayunaba con los pelos alborotados. Me dijo:\\n—?Ayer entró un tipo por la ventana y me quiso fornicar. Yo estaba adentro de las sábanas y cuando saqué la cabeza, asustado, el tipo me mira y me dice «Vos no sos el gordo», y me deja de fornicar. Se levanta de la cama, me pide disculpas y se escapa por la ventana. Iba en un ciclomotor de la marca Zanella. No apareció nunca más.\\nYo miré la taza de café que tenía Gonzalo en la mano: le temblaba. Antes de que se pusiera a llorar lo tranquilicé:\\n— Estamos en carnaval?—?le dije?—?. En estas épocas vale todo, Gonzalo.\\nEl susto de Garcés fue enorme, y yo creí siempre que se había olvidado de aquello. En esa época me preocupé más por el susto de mi amigo Chiri, que duró muchos años y fue traumático. Creer que estás violando en chiste a un amigo gordo, de toda la vida, y ver de repente que estás violando en chiste a una promesa literaria menor de edad, es horrible. Esa imagen no se va muy fácil del subconsciente. Pobre Chiri.\\nCon el paso de los años fue peor, porque Gonzalo Garcés empezó a crecer en el mundo hispanoamericano de las letras, se convirtió en un gran escritor, en un crítico implacable, en el director de una editorial prestigiosa, y el trauma de Chiri creció siempre a la par de la consagración de Garcés.\\nHace unos años, cuando Gonzalo ganó el Premio Seix Barral, Chiri sintió mucha vergüenza por haber violado en la oscuridad a alguien que había conseguido el mismo galardón que Vargas Llosa.\\nPero ahora creo que el gol que me gritó Gonzalo Garcés a la cara durante el metegol, con una mirada maradoniana y vengativa que jamás le había visto antes, casi mirando a cámara, fue una manera de decirme que todavía se acuerda, que algo sigue roto en su alma, que no le gustaron mucho los carnavales de mi pueblo.\\nHernán Casciari\\n17 noviembre, 2015']\n"
     ]
    }
   ],
   "source": [
    "fltr_venganza_metegol = df_blog_raw[\"titulo\"] == \"La venganza del metegol\"\n",
    "print(df_blog_raw.loc[fltr_venganza_metegol,\"cuento\"].values[:200])"
   ]
  },
  {
   "cell_type": "code",
   "execution_count": 5,
   "id": "77fd530f",
   "metadata": {},
   "outputs": [],
   "source": [
    "nlp = spacy.load(\"es_core_news_sm\")\n",
    "\n",
    "# se toman los stopwords sugeridos \n",
    "extra_stopwords = pd.read_csv('data/extra_stopwords.csv', sep=',',header=None)\n",
    "extra_stopwords.columns = ['stopwords']\n",
    "extra_stopwords=set(extra_stopwords['stopwords'].to_list())\n",
    "\n",
    "# Agregamos a nuestro modelo de SpaCy\n",
    "nlp.Defaults.stop_words |= extra_stopwords\n",
    "\n",
    "# se toman mas stopwords sugeridos \n",
    "extra_stopwords = pd.read_csv('data/stopwords_taller.csv', sep=',',header=None)\n",
    "extra_stopwords.columns = ['stopwords']\n",
    "extra_stopwords=set(extra_stopwords['stopwords'].to_list())\n",
    "\n",
    "nlp.Defaults.stop_words |= extra_stopwords"
   ]
  },
  {
   "cell_type": "code",
   "execution_count": 6,
   "metadata": {},
   "outputs": [],
   "source": [
    "def limpieza_texto(texto):\n",
    "    \n",
    "    # se eliminan los caracteres especiales del español como tildes\n",
    "    out = unidecode.unidecode(texto)\n",
    "    # eliminar caracteres de puntuacion puntos, exclamaciones etc\n",
    "    out = re.sub(\"[^\\\\w\\\\s]|\\n\", ' ', out)\n",
    "    # eliminar digitos\n",
    "    out = re.sub(\"\\d+\", \"\", out)\n",
    "    # eliminar los espacios extras \n",
    "    out = re.sub('\\s+', ' ', out)\n",
    "    out = out.strip()\n",
    "    # conversion a minuscula \n",
    "    out = out.lower()\n",
    "\n",
    "    out = nlp(out)\n",
    "    # Filtrar las stopwords y obtener lemmas\n",
    "    out = [token.lemma_ for token in out if not token.is_stop and len(token) > 2]\n",
    "    out = \" \".join(out)\n",
    "    \n",
    "    # volver a aplicar la limpieza ya que el lemmatizador devuelve algunas palabras con tilde\n",
    "    out = unidecode.unidecode(out)\n",
    "        \n",
    "    return out"
   ]
  },
  {
   "cell_type": "code",
   "execution_count": 7,
   "id": "ec033910",
   "metadata": {},
   "outputs": [],
   "source": [
    "lst_blog_clean = list(map(limpieza_texto, df_blog_raw['cuento']))"
   ]
  },
  {
   "cell_type": "code",
   "execution_count": 8,
   "id": "51f7f4e9",
   "metadata": {},
   "outputs": [],
   "source": [
    "df_blog_clean = df_blog_raw.copy()\n",
    "df_blog_clean[\"cuento_clean\"] = lst_blog_clean"
   ]
  },
  {
   "cell_type": "code",
   "execution_count": 9,
   "id": "a978647a",
   "metadata": {},
   "outputs": [
    {
     "name": "stdout",
     "output_type": "stream",
     "text": [
      "['El mes pasado me invitaron a presentar un libro en Buenos Aires. Y como era un libro sobre fútbol, al final de la charla el director de la editorial nos invitó a jugar un partido de metegol (ese invento español al que sus creadores llaman, erróneamente, futbolín). Hacía años que no jugaba al metegol, pero por suerte me tocó de compañero un filósofo muy prestigioso y pudimos ganar. Nuestros contrincantes eran el autor del libro y el director de la editorial. De los tres, a este último lo conocía desde la juventud.\\nJugamos dos partidos enteros y los destrozamos con una facilidad pasmosa: hacía años que no practicaba este falso deporte de muñecas y reflejos, pero descubrí que no había perdido las mañas. Eso me hizo sentir bien: a mi edad cualquier destreza que mantengamos indemne, por más pelotuda que sea, se convierte en una gran noticia.\\nDespués de la charla algunos fotógrafos hicieron imágenes del partido de metegol y las subieron a Twitter.\\n— Estadio: Librería Gandhi, Buenos Aires. Locales: A la izquierda, Alejandro Duchini y Gonzalo Garcés. Vistantes: A la derecha, Tomás Abraham y Hernán Casciari. Resultado: 1º match: 1-4; 2º match 0-4. Paliza.\\nCuando volví a casa recibí un mail de Chiri, mi mejor amigo desde la infancia. Me decía que había visto las fotos y se sorprendía de que mi compañero haya sido el mismo filósofo al que admirábamos en la juventud. «Vos, jugando al metegol con Tomás Abraham; solamente puede pasar en un sueño», me decía. Y era verdad. En un momento, durante el partido, me imaginé con diecisiete años mirando por la ventana de la librería Gandhi esa escena del futuro, y sonreí.\\nEse recuerdo momentáneo me desconcentró del juego y justo en ese momento me hicieron un gol (el único que recibí esa noche; yo defendía la zaga). Fue un gol con molinete de Gonzalo Garcés, el director de la editorial Galerna, y él, con injusticia, me lo festejó en la cara de un modo muy antideportivo, como si se tratara de la final del mundo.\\nEntonces me vino a la cabeza algo que ya conté muchas veces en sobremesas con amigos, y que ocurrió la noche en que lo conocí a Gonzalo, cuando los dos éramos adolescentes.\\nEn ese entonces (sería el año noventa y uno) me gustaba mucho pasar los veranos en Mercedes, mi pueblo, porque mis padres se iban de vacaciones y me dejaban la casa sola. Mi amigo Chiri llegaba los viernes muy de madrugada, y pasaba por casa para ver si yo estaba despierto. Si veía luz en la habitación me tocaba timbre y nos emborrachábamos por ahí. Si no veía luz, entraba por la ventana de mi cuarto a oscuras y me despertaba de maneras horribles: a veces me tiraba agua en la cara, o me pegaba una patada en la panza. O me metía un gato entre las cobijas. O se subía arriba de las mantas y empezaba a bombearme desde atrás como un amante desenfrenado. El objetivo era despertarme siempre de una manera creativa.\\nPero cierto fin de semana pasó que, por la tarde, conocí a Gonzalo Garcés (que entonces era una promesa de escritor de diecisiete años) y lo invité a pasar un fin de semana a Mercedes. Gonzalo ya era entonces el cachorro de lo que es hoy: una persona fina, siempre muy bien bañado, de clase acomodada y sereno. De hecho, se había convertido un año antes, a los dieciséis, en el crítico literario más joven en la historia del diario porteño La Nación. Un prodigio, Garcés. Siempre lo fue.\\nNos conocimos por casualidad porque aquel año integramos una antología de «jóvenes promesas literarias» de entonces, y se había publicado un libro con veinte autores adolescentes. Yo leí su cuento y fue el único que me gustó, entonces lo llamé por teléfono y lo invité a casa para charlar. Estuvo en Mercedes ese fin de semana. Lo llevé al carnaval del pueblo, que es uno de los carnavales menos luminosos y más tristes de la provincia de Buenos Aires.\\nLa pasamos muy bien todo ese día, hasta el accidente nocturno. Gonzalo Garcés se quedó a dormir en casa y le ofrecí mi habitación. Yo me fui a dormir la borrachera a la cama de mis padres, sin recordar la rutina de Chiri por las madrugadas. Esa noche Gonzalo, un chico buen mozo y frágil, se acostó y apagó la luz en una ciudad desconocida de la llanura pampeana, y se quedó dormido, sin saber que en medio de la noche un borracho joven entraría a oscuras por la ventana y se subiría encima suyo para sodomizarlo.\\nYo no escuché el grito, porque la habitación de mis padres quedaba lejos. No me enteré de nada. Pero a la mañana siguiente encontré a Gonzalo en la cocina. Desayunaba con los pelos alborotados. Me dijo:\\n—?Ayer entró un tipo por la ventana y me quiso fornicar. Yo estaba adentro de las sábanas y cuando saqué la cabeza, asustado, el tipo me mira y me dice «Vos no sos el gordo», y me deja de fornicar. Se levanta de la cama, me pide disculpas y se escapa por la ventana. Iba en un ciclomotor de la marca Zanella. No apareció nunca más.\\nYo miré la taza de café que tenía Gonzalo en la mano: le temblaba. Antes de que se pusiera a llorar lo tranquilicé:\\n— Estamos en carnaval?—?le dije?—?. En estas épocas vale todo, Gonzalo.\\nEl susto de Garcés fue enorme, y yo creí siempre que se había olvidado de aquello. En esa época me preocupé más por el susto de mi amigo Chiri, que duró muchos años y fue traumático. Creer que estás violando en chiste a un amigo gordo, de toda la vida, y ver de repente que estás violando en chiste a una promesa literaria menor de edad, es horrible. Esa imagen no se va muy fácil del subconsciente. Pobre Chiri.\\nCon el paso de los años fue peor, porque Gonzalo Garcés empezó a crecer en el mundo hispanoamericano de las letras, se convirtió en un gran escritor, en un crítico implacable, en el director de una editorial prestigiosa, y el trauma de Chiri creció siempre a la par de la consagración de Garcés.\\nHace unos años, cuando Gonzalo ganó el Premio Seix Barral, Chiri sintió mucha vergüenza por haber violado en la oscuridad a alguien que había conseguido el mismo galardón que Vargas Llosa.\\nPero ahora creo que el gol que me gritó Gonzalo Garcés a la cara durante el metegol, con una mirada maradoniana y vengativa que jamás le había visto antes, casi mirando a cámara, fue una manera de decirme que todavía se acuerda, que algo sigue roto en su alma, que no le gustaron mucho los carnavales de mi pueblo.\\nHernán Casciari\\n17 noviembre, 2015']\n",
      "['mes invitar presentar aires futbol char el director editorial invitar jugar partido metegol invento espanol creador llamar erroneamente futbolin ano jugar metegol suerte tocar companero filosofo prestigioso poder ganar contrincante autor director editorial conocia juventud jugar partido entero destrozar facilidad pasmos ano practicar falso deporte muneca reflejo descubri perdido mana sentir edad destreza mantengar indemne pelotuda convertir noticia char el fotografo imagen partido metegol subir twitter estadio librerio gandhi aire local izquierda duchini gonzalo garz vistant derecha tomar abraham resultado match match palizar volvi recibi mail amigo infancia deciar visto foto sorprendiar companero filosofo admirabar juventud jugar metegol toma abraham pasar sueno deciar partido imagine diecisiete ano mirar ventana libreria gandhi escena futuro sonrei recuerdo momentaneo desconcentro juego justo gol unico recibi defendiar zaga gol molinete gonzalo garz director editorial galerno injusticia festejo cara antideportivo tratar venir cabeza contar sobremesa amigo ocurrir conoci gonzalo adolescente serio ano noventa gustar pasar verano merced pueblo padre ir vacacion dejar amigo llegar viernes madrugada pasar despierto veiar luz habitacion tocar timbre emborrachabar veiar luz entrar ventana cuarto oscura despertar manera horrible tirar agua cara pegar patada panza metiar gato cobija subiar manta empezar bombear yo amante desenfrenado objetivo despertar yo creativo paso conoci gonzalo garz promesa escritor diecisiete ano invitir pasar merced gonzalo cachorro persona fino banado clase acomodado sereno convertido ano dieciseis critico literario joven historia diario porteno nacion prodigio garz conocer casualidad ano integrar antologia joven promesa literario publicado veinte autor adolescente lei cuento unico gustar llamar telefono invitir charlar merced llevar carnaval pueblo carnaval luminoso trist provincia aires pasar accidente nocturno gonzalo garz quedo dormir ofreci habitacion dormir borrachera cama padre recordar rutina madrugada gonzalir chico mozo fragil acosto apago luz ciudad desconocido llanura pampean quedar dormido borracho joven entrario oscura ventana subiriar sodomizar el escuchir grito habitacion padre quedar lejos enterar manana encontre gonzalo cocina desayunar pelo alborotado ayer entro tipo ventana querer fornicar adentro sabana sacar cabeza asustado tipo mirar so dejar fornicar levantar cama pedir disculpa escapar ventana ir ciclomotor marca zanella aparecio mire taza cafe tenia gonzalo mano temblar poner llorar tranquilizar carnaval epoca valer gonzalir susto garz enorme crei olvidado epoca preocupar susto amigo duro ano traumatico creer violar chiste amigo violar chiste promesa literaria menor edad horrible imagen facil subconsciente pobre paso ano gonzalir garz empezo crecer hispanoamericano letra convirtio escritor critico implacable director editorial prestigioso trauma crecio par consagracion garz ano gonzalo gano premio seix barral sintio verguenza violar oscuridad conseguido galardon vargas llos gol gritar gonzalir garz cara metegol mirada maradonian vengativo jama visto mirar camara decirme acordar roto alma gustar carnaval pueblo noviembre']\n"
     ]
    }
   ],
   "source": [
    "fltr_venganza_metegol = df_blog_raw[\"titulo\"] == \"La venganza del metegol\"\n",
    "print(df_blog_raw.loc[fltr_venganza_metegol,\"cuento\"].values[:200])\n",
    "print(df_blog_clean.loc[fltr_venganza_metegol,\"cuento_clean\"].values[:200])"
   ]
  },
  {
   "cell_type": "markdown",
   "metadata": {},
   "source": [
    "(Utilice este espacio para describir el procedimiento, análisis, y conclusiones)"
   ]
  },
  {
   "cell_type": "markdown",
   "metadata": {},
   "source": [
    "### 3. Generando Recomendaciones\n",
    "\n",
    "En esta sección nos interesa generar recomendaciones de cuentos en el blog a un usuario que leyó 'La venganza del metegol'. Para ello vamos a utilizar distintas estrategias."
   ]
  },
  {
   "cell_type": "markdown",
   "metadata": {},
   "source": [
    "#### 3.1. Recomendaciones basadas en contenidos\n",
    "\n",
    "##### 3.1.1. Genere 5 recomendaciones de más recomendada (1) a menos recomendada (5) para el cuento 'La venganza del metegol' usando en la distancia de coseno donde el texto este vectorizado por `CountVectorizer`. Explique el procedimiento que realizó y como ordenó las recomendaciones."
   ]
  },
  {
   "cell_type": "code",
   "execution_count": 10,
   "id": "4a18eb80",
   "metadata": {},
   "outputs": [],
   "source": [
    "from sklearn.metrics.pairwise import cosine_similarity"
   ]
  },
  {
   "cell_type": "code",
   "execution_count": 11,
   "metadata": {},
   "outputs": [],
   "source": [
    "count = CountVectorizer()\n",
    "count_matrix = count.fit_transform(df_blog_clean['cuento_clean'])\n",
    "\n",
    "#Calculamos la matriz de similitud de coseno\n",
    "cosine_sim = cosine_similarity(count_matrix, count_matrix)"
   ]
  },
  {
   "cell_type": "code",
   "execution_count": 12,
   "id": "62f9d5f3",
   "metadata": {},
   "outputs": [],
   "source": [
    "def top_k_recomendaciones(titulo, matriz_pesos, df, k):\n",
    "        \n",
    "    # encontrar ubicacion del titulo\n",
    "    fltr_venganza_metegol = df[\"titulo\"] == titulo\n",
    "    indx_cuento = np.argmax(fltr_venganza_metegol)\n",
    "\n",
    "    # determinar la cantidad de sugerencias\n",
    "    n_sugerencias = k\n",
    "    # tomar la matriz que tiene los criterios de decision y obtener el top de indices\n",
    "    top_sugerencias = np.argsort(matriz_pesos[indx_cuento])[-n_sugerencias-1:-1]\n",
    "\n",
    "    # encontrar las sugerencias en el blog original ordernar de mayor a menor\n",
    "    sugerencias = df_blog_clean.iloc[top_sugerencias,:][::-1]\n",
    "\n",
    "\n",
    "    return sugerencias"
   ]
  },
  {
   "cell_type": "code",
   "execution_count": 13,
   "id": "44f2fa7b",
   "metadata": {},
   "outputs": [
    {
     "data": {
      "text/html": [
       "<div>\n",
       "<style scoped>\n",
       "    .dataframe tbody tr th:only-of-type {\n",
       "        vertical-align: middle;\n",
       "    }\n",
       "\n",
       "    .dataframe tbody tr th {\n",
       "        vertical-align: top;\n",
       "    }\n",
       "\n",
       "    .dataframe thead th {\n",
       "        text-align: right;\n",
       "    }\n",
       "</style>\n",
       "<table border=\"1\" class=\"dataframe\">\n",
       "  <thead>\n",
       "    <tr style=\"text-align: right;\">\n",
       "      <th></th>\n",
       "      <th>titulo</th>\n",
       "      <th>fecha</th>\n",
       "      <th>cuento</th>\n",
       "      <th>cuento_clean</th>\n",
       "    </tr>\n",
       "  </thead>\n",
       "  <tbody>\n",
       "    <tr>\n",
       "      <th>416</th>\n",
       "      <td>Hace seis años también era domingo</td>\n",
       "      <td>5/14/06</td>\n",
       "      <td>Hace seis años yo vivía en una casita alucinan...</td>\n",
       "      <td>ano vivia casita alucinante miniatura pareciar...</td>\n",
       "    </tr>\n",
       "    <tr>\n",
       "      <th>5</th>\n",
       "      <td>El milagro de los pueblos</td>\n",
       "      <td>4/22/08</td>\n",
       "      <td>Cuando nació la Nina no tuve ganas de escribir...</td>\n",
       "      <td>nacio nina gana escribir descubrimiento patern...</td>\n",
       "    </tr>\n",
       "    <tr>\n",
       "      <th>17</th>\n",
       "      <td>Cuento con bruja y tramontina</td>\n",
       "      <td>8/29/08</td>\n",
       "      <td>Íbamos en un taxi por la avenida Álvarez Thoma...</td>\n",
       "      <td>ibar taxi avenida alvarez thoma llegar esquina...</td>\n",
       "    </tr>\n",
       "    <tr>\n",
       "      <th>121</th>\n",
       "      <td>Gaussian blur</td>\n",
       "      <td>10/10/13</td>\n",
       "      <td>Estoy en San José de Costa Rica y llueve. Acab...</td>\n",
       "      <td>san jo el rico llover acabar pedir cafe abrir ...</td>\n",
       "    </tr>\n",
       "    <tr>\n",
       "      <th>519</th>\n",
       "      <td>La madre de todas las desgracias</td>\n",
       "      <td>12/13/07</td>\n",
       "      <td>Los que vivimos tan lejos, con un Atlántico en...</td>\n",
       "      <td>vivir lejos atlantico tema tabu aterrar saber ...</td>\n",
       "    </tr>\n",
       "  </tbody>\n",
       "</table>\n",
       "</div>"
      ],
      "text/plain": [
       "                                 titulo     fecha  \\\n",
       "416  Hace seis años también era domingo   5/14/06   \n",
       "5             El milagro de los pueblos   4/22/08   \n",
       "17        Cuento con bruja y tramontina   8/29/08   \n",
       "121                       Gaussian blur  10/10/13   \n",
       "519    La madre de todas las desgracias  12/13/07   \n",
       "\n",
       "                                                cuento  \\\n",
       "416  Hace seis años yo vivía en una casita alucinan...   \n",
       "5    Cuando nació la Nina no tuve ganas de escribir...   \n",
       "17   Íbamos en un taxi por la avenida Álvarez Thoma...   \n",
       "121  Estoy en San José de Costa Rica y llueve. Acab...   \n",
       "519  Los que vivimos tan lejos, con un Atlántico en...   \n",
       "\n",
       "                                          cuento_clean  \n",
       "416  ano vivia casita alucinante miniatura pareciar...  \n",
       "5    nacio nina gana escribir descubrimiento patern...  \n",
       "17   ibar taxi avenida alvarez thoma llegar esquina...  \n",
       "121  san jo el rico llover acabar pedir cafe abrir ...  \n",
       "519  vivir lejos atlantico tema tabu aterrar saber ...  "
      ]
     },
     "execution_count": 13,
     "metadata": {},
     "output_type": "execute_result"
    }
   ],
   "source": [
    "titulo = \"La venganza del metegol\"\n",
    "top_k_recomendaciones(titulo, cosine_sim, df_blog_clean, 5)"
   ]
  },
  {
   "cell_type": "markdown",
   "metadata": {},
   "source": [
    "(Utilice este espacio para describir el procedimiento, análisis, y conclusiones)"
   ]
  },
  {
   "cell_type": "markdown",
   "metadata": {},
   "source": [
    "##### 3.1.2. Genere 5 recomendaciones de más recomendada (1) a menos recomendada (5) para  el cuento 'La venganza del metegol' usando nuevamente la distancia de coseno, pero ahora vectorice el texto usando `TF-IDFVectorizer`. Explique el procedimiento que realizó y como ordenó las recomendaciones. Compare con los resultados del punto anterior y explique sus similitudes y/o diferencias."
   ]
  },
  {
   "cell_type": "code",
   "execution_count": 14,
   "id": "3f1e921c",
   "metadata": {},
   "outputs": [],
   "source": [
    "from sklearn.feature_extraction.text import TfidfVectorizer\n",
    "from sklearn.metrics.pairwise import linear_kernel"
   ]
  },
  {
   "cell_type": "code",
   "execution_count": 15,
   "metadata": {},
   "outputs": [],
   "source": [
    "\n",
    "#Definimos el objeto TF-IDF Vectorizer Object\n",
    "tfidf = TfidfVectorizer()\n",
    "\n",
    "#Construimos la matriz TF-IDF\n",
    "tfidf_matrix = tfidf.fit_transform(df_blog_clean[\"cuento_clean\"])\n",
    "\n",
    "df_tfidf = pd.DataFrame(tfidf_matrix.toarray(), columns=tfidf.get_feature_names_out())\n",
    "\n",
    "# Calculamos el producto punto\n",
    "cosine_sim = linear_kernel(tfidf_matrix, tfidf_matrix)"
   ]
  },
  {
   "cell_type": "code",
   "execution_count": 16,
   "id": "35adffdf",
   "metadata": {},
   "outputs": [
    {
     "data": {
      "text/html": [
       "<div>\n",
       "<style scoped>\n",
       "    .dataframe tbody tr th:only-of-type {\n",
       "        vertical-align: middle;\n",
       "    }\n",
       "\n",
       "    .dataframe tbody tr th {\n",
       "        vertical-align: top;\n",
       "    }\n",
       "\n",
       "    .dataframe thead th {\n",
       "        text-align: right;\n",
       "    }\n",
       "</style>\n",
       "<table border=\"1\" class=\"dataframe\">\n",
       "  <thead>\n",
       "    <tr style=\"text-align: right;\">\n",
       "      <th></th>\n",
       "      <th>titulo</th>\n",
       "      <th>fecha</th>\n",
       "      <th>cuento</th>\n",
       "      <th>cuento_clean</th>\n",
       "    </tr>\n",
       "  </thead>\n",
       "  <tbody>\n",
       "    <tr>\n",
       "      <th>17</th>\n",
       "      <td>Cuento con bruja y tramontina</td>\n",
       "      <td>8/29/08</td>\n",
       "      <td>Íbamos en un taxi por la avenida Álvarez Thoma...</td>\n",
       "      <td>ibar taxi avenida alvarez thoma llegar esquina...</td>\n",
       "    </tr>\n",
       "    <tr>\n",
       "      <th>121</th>\n",
       "      <td>Gaussian blur</td>\n",
       "      <td>10/10/13</td>\n",
       "      <td>Estoy en San José de Costa Rica y llueve. Acab...</td>\n",
       "      <td>san jo el rico llover acabar pedir cafe abrir ...</td>\n",
       "    </tr>\n",
       "    <tr>\n",
       "      <th>519</th>\n",
       "      <td>La madre de todas las desgracias</td>\n",
       "      <td>12/13/07</td>\n",
       "      <td>Los que vivimos tan lejos, con un Atlántico en...</td>\n",
       "      <td>vivir lejos atlantico tema tabu aterrar saber ...</td>\n",
       "    </tr>\n",
       "    <tr>\n",
       "      <th>5</th>\n",
       "      <td>El milagro de los pueblos</td>\n",
       "      <td>4/22/08</td>\n",
       "      <td>Cuando nació la Nina no tuve ganas de escribir...</td>\n",
       "      <td>nacio nina gana escribir descubrimiento patern...</td>\n",
       "    </tr>\n",
       "    <tr>\n",
       "      <th>414</th>\n",
       "      <td>La desgracia venía en sobres papel madera</td>\n",
       "      <td>4/27/06</td>\n",
       "      <td>Desde los tres años de edad empecé a desarroll...</td>\n",
       "      <td>ano edad empece desarrollar patologia extrana ...</td>\n",
       "    </tr>\n",
       "  </tbody>\n",
       "</table>\n",
       "</div>"
      ],
      "text/plain": [
       "                                        titulo     fecha  \\\n",
       "17               Cuento con bruja y tramontina   8/29/08   \n",
       "121                              Gaussian blur  10/10/13   \n",
       "519           La madre de todas las desgracias  12/13/07   \n",
       "5                    El milagro de los pueblos   4/22/08   \n",
       "414  La desgracia venía en sobres papel madera   4/27/06   \n",
       "\n",
       "                                                cuento  \\\n",
       "17   Íbamos en un taxi por la avenida Álvarez Thoma...   \n",
       "121  Estoy en San José de Costa Rica y llueve. Acab...   \n",
       "519  Los que vivimos tan lejos, con un Atlántico en...   \n",
       "5    Cuando nació la Nina no tuve ganas de escribir...   \n",
       "414  Desde los tres años de edad empecé a desarroll...   \n",
       "\n",
       "                                          cuento_clean  \n",
       "17   ibar taxi avenida alvarez thoma llegar esquina...  \n",
       "121  san jo el rico llover acabar pedir cafe abrir ...  \n",
       "519  vivir lejos atlantico tema tabu aterrar saber ...  \n",
       "5    nacio nina gana escribir descubrimiento patern...  \n",
       "414  ano edad empece desarrollar patologia extrana ...  "
      ]
     },
     "execution_count": 16,
     "metadata": {},
     "output_type": "execute_result"
    }
   ],
   "source": [
    "titulo = \"La venganza del metegol\"\n",
    "top_k_recomendaciones(titulo, cosine_sim, df_blog_clean, 5)"
   ]
  },
  {
   "cell_type": "markdown",
   "metadata": {},
   "source": [
    "(Utilice este espacio para describir el procedimiento, análisis, y conclusiones)"
   ]
  },
  {
   "cell_type": "markdown",
   "metadata": {},
   "source": [
    "##### 3.1.3. Genere 5 recomendaciones de más recomendada (1) a menos recomendada (5) para el cuento 'La venganza del metegol' usando el texto vectorizado por `TF-IDFVectorizer` y la correlación como medida de similitud. Explique el procedimiento que realizó y como ordenó las recomendaciones. Compare con los resultados de los puntos anteriores y explique sus similitudes y/o diferencias."
   ]
  },
  {
   "cell_type": "code",
   "execution_count": 38,
   "metadata": {},
   "outputs": [],
   "source": [
    "corr_matrix = np.corrcoef(df_tfidf.values)"
   ]
  },
  {
   "cell_type": "code",
   "execution_count": 39,
   "id": "1ce79a19",
   "metadata": {},
   "outputs": [
    {
     "data": {
      "text/html": [
       "<div>\n",
       "<style scoped>\n",
       "    .dataframe tbody tr th:only-of-type {\n",
       "        vertical-align: middle;\n",
       "    }\n",
       "\n",
       "    .dataframe tbody tr th {\n",
       "        vertical-align: top;\n",
       "    }\n",
       "\n",
       "    .dataframe thead th {\n",
       "        text-align: right;\n",
       "    }\n",
       "</style>\n",
       "<table border=\"1\" class=\"dataframe\">\n",
       "  <thead>\n",
       "    <tr style=\"text-align: right;\">\n",
       "      <th></th>\n",
       "      <th>titulo</th>\n",
       "      <th>fecha</th>\n",
       "      <th>cuento</th>\n",
       "      <th>cuento_clean</th>\n",
       "    </tr>\n",
       "  </thead>\n",
       "  <tbody>\n",
       "    <tr>\n",
       "      <th>17</th>\n",
       "      <td>Cuento con bruja y tramontina</td>\n",
       "      <td>8/29/08</td>\n",
       "      <td>Íbamos en un taxi por la avenida Álvarez Thoma...</td>\n",
       "      <td>ibar taxi avenida alvarez thoma llegar esquina...</td>\n",
       "    </tr>\n",
       "    <tr>\n",
       "      <th>121</th>\n",
       "      <td>Gaussian blur</td>\n",
       "      <td>10/10/13</td>\n",
       "      <td>Estoy en San José de Costa Rica y llueve. Acab...</td>\n",
       "      <td>san jo el rico llover acabar pedir cafe abrir ...</td>\n",
       "    </tr>\n",
       "    <tr>\n",
       "      <th>5</th>\n",
       "      <td>El milagro de los pueblos</td>\n",
       "      <td>4/22/08</td>\n",
       "      <td>Cuando nació la Nina no tuve ganas de escribir...</td>\n",
       "      <td>nacio nina gana escribir descubrimiento patern...</td>\n",
       "    </tr>\n",
       "    <tr>\n",
       "      <th>519</th>\n",
       "      <td>La madre de todas las desgracias</td>\n",
       "      <td>12/13/07</td>\n",
       "      <td>Los que vivimos tan lejos, con un Atlántico en...</td>\n",
       "      <td>vivir lejos atlantico tema tabu aterrar saber ...</td>\n",
       "    </tr>\n",
       "    <tr>\n",
       "      <th>414</th>\n",
       "      <td>La desgracia venía en sobres papel madera</td>\n",
       "      <td>4/27/06</td>\n",
       "      <td>Desde los tres años de edad empecé a desarroll...</td>\n",
       "      <td>ano edad empece desarrollar patologia extrana ...</td>\n",
       "    </tr>\n",
       "  </tbody>\n",
       "</table>\n",
       "</div>"
      ],
      "text/plain": [
       "                                        titulo     fecha  \\\n",
       "17               Cuento con bruja y tramontina   8/29/08   \n",
       "121                              Gaussian blur  10/10/13   \n",
       "5                    El milagro de los pueblos   4/22/08   \n",
       "519           La madre de todas las desgracias  12/13/07   \n",
       "414  La desgracia venía en sobres papel madera   4/27/06   \n",
       "\n",
       "                                                cuento  \\\n",
       "17   Íbamos en un taxi por la avenida Álvarez Thoma...   \n",
       "121  Estoy en San José de Costa Rica y llueve. Acab...   \n",
       "5    Cuando nació la Nina no tuve ganas de escribir...   \n",
       "519  Los que vivimos tan lejos, con un Atlántico en...   \n",
       "414  Desde los tres años de edad empecé a desarroll...   \n",
       "\n",
       "                                          cuento_clean  \n",
       "17   ibar taxi avenida alvarez thoma llegar esquina...  \n",
       "121  san jo el rico llover acabar pedir cafe abrir ...  \n",
       "5    nacio nina gana escribir descubrimiento patern...  \n",
       "519  vivir lejos atlantico tema tabu aterrar saber ...  \n",
       "414  ano edad empece desarrollar patologia extrana ...  "
      ]
     },
     "execution_count": 39,
     "metadata": {},
     "output_type": "execute_result"
    }
   ],
   "source": [
    "titulo = \"La venganza del metegol\"\n",
    "top_k_recomendaciones(titulo, corr_matrix, df_blog_clean, 5)"
   ]
  },
  {
   "cell_type": "markdown",
   "metadata": {},
   "source": [
    "(Utilice este espacio para describir el procedimiento, análisis, y conclusiones)"
   ]
  },
  {
   "cell_type": "markdown",
   "metadata": {},
   "source": [
    "##### 3.2. Recomendaciones basadas en temas\n",
    "\n",
    "Usando modelado de temas con LDA, encuentre los temas subyacentes en el blog. Explique como eligió el numero óptimo de temas. Utilizando el tema asignado al cuento 'La venganza del metegol' y la probabilidad de pertenecer a este tema genere 5 recomendaciones de más recomendada (1) a menos recomendada (5) para este cuento. Explique el procedimiento que realizó. Compare con los resultados encontrados anteriormente y explique sus similitudes y/o diferencias. (Esto puede tomar mucho tiempo y requerir mucha capacidad computacional, puede aprovechar los recursos de [Google Colab](https://colab.research.google.com/))\n"
   ]
  },
  {
   "cell_type": "code",
   "execution_count": 57,
   "id": "42074a30",
   "metadata": {},
   "outputs": [],
   "source": [
    "from gensim.corpora import Dictionary\n",
    "from gensim.models import LdaModel\n",
    "from pprint import pprint\n",
    "from gensim.models import CoherenceModel\n",
    "from gensim.models.ldamulticore import LdaMulticore"
   ]
  },
  {
   "cell_type": "code",
   "execution_count": 51,
   "id": "21ae205e",
   "metadata": {},
   "outputs": [
    {
     "name": "stdout",
     "output_type": "stream",
     "text": [
      "Numero de palabras únicas: 1262\n"
     ]
    }
   ],
   "source": [
    "dictionary = Dictionary(df_blog_clean[\"cuento_clean\"].str.split())\n",
    "\n",
    "dictionary.filter_extremes(no_below=20, no_above=0.5)\n",
    "\n",
    "corpus = [dictionary.doc2bow(doc) for doc in df_blog_clean[\"cuento_clean\"].str.split()]\n",
    "print('Numero de palabras únicas: %d' % len(dictionary))"
   ]
  },
  {
   "cell_type": "code",
   "execution_count": 52,
   "id": "0fafb833",
   "metadata": {},
   "outputs": [],
   "source": [
    "Estimacion = LdaModel(\n",
    "    corpus=corpus,\n",
    "    id2word=dictionary,\n",
    "    num_topics=3,\n",
    "    chunksize=1000,\n",
    "    passes=20,\n",
    "    iterations=400,\n",
    "    alpha='auto',\n",
    "    eta='auto',\n",
    "    random_state=123,\n",
    "    eval_every=None\n",
    ")"
   ]
  },
  {
   "cell_type": "code",
   "execution_count": 53,
   "id": "49cc4c87",
   "metadata": {},
   "outputs": [
    {
     "name": "stdout",
     "output_type": "stream",
     "text": [
      "[(0,\n",
      "  '0.009*\"yo\" + 0.007*\"mujer\" + 0.007*\"hombre\" + 0.006*\"amigo\" + '\n",
      "  '0.006*\"llegar\" + 0.005*\"nino\" + 0.005*\"querer\" + 0.005*\"sueno\" + '\n",
      "  '0.005*\"pensar\" + 0.005*\"mano\"'),\n",
      " (1,\n",
      "  '0.014*\"caio\" + 0.013*\"zacaria\" + 0.010*\"viejo\" + 0.009*\"nacho\" + '\n",
      "  '0.009*\"sofi\" + 0.008*\"hijo\" + 0.008*\"chico\" + 0.007*\"llorar\" + '\n",
      "  '0.007*\"venir\" + 0.007*\"dar\"'),\n",
      " (2,\n",
      "  '0.007*\"argentino\" + 0.007*\"escribir\" + 0.006*\"llamar\" + 0.006*\"yo\" + '\n",
      "  '0.005*\"llegar\" + 0.005*\"hablar\" + 0.005*\"pensar\" + 0.005*\"pais\" + '\n",
      "  '0.005*\"amigo\" + 0.005*\"palabra\"')]\n"
     ]
    }
   ],
   "source": [
    "pprint(Estimacion.print_topics())"
   ]
  },
  {
   "cell_type": "code",
   "execution_count": 58,
   "id": "976e3f8a",
   "metadata": {},
   "outputs": [],
   "source": [
    "def calcular_coherencia(dictionary, corpus, texts, start=1, limit=10, step=1):\n",
    " \n",
    "    coherence_values = []\n",
    "    model_list = []\n",
    "    \n",
    "    for num_topics in range(start, limit, step):\n",
    "        model = LdaMulticore(corpus=corpus,\n",
    "                        id2word=dictionary,\n",
    "                        num_topics=num_topics, \n",
    "                        random_state=123,\n",
    "                        passes=20)\n",
    "        model_list.append(model)\n",
    "        coherencemodel = CoherenceModel(model=model, texts=texts, dictionary=dictionary, coherence='c_v')\n",
    "        coherence_values.append(coherencemodel.get_coherence())\n",
    "\n",
    "    return model_list, coherence_values"
   ]
  },
  {
   "cell_type": "code",
   "execution_count": 66,
   "id": "19c7d784",
   "metadata": {},
   "outputs": [],
   "source": [
    "inicio = 1\n",
    "limite = 15\n",
    "paso = 1\n",
    "modelos, valores_c = calcular_coherencia(dictionary=dictionary, corpus=corpus, texts=df_blog_clean[\"cuento_clean\"].str.split(), start=inicio, limit=limite, step=paso)"
   ]
  },
  {
   "cell_type": "code",
   "execution_count": 75,
   "id": "8366f6bf",
   "metadata": {},
   "outputs": [
    {
     "data": {
      "image/png": "[encoded data removed]",
      "text/plain": [
       "<Figure size 640x480 with 1 Axes>"
      ]
     },
     "metadata": {},
     "output_type": "display_data"
    }
   ],
   "source": [
    "import matplotlib.pyplot as plt\n",
    "# Show graph\n",
    "x = range(inicio, limite, paso)\n",
    "plt.plot(x, valores_c)\n",
    "plt.xlabel(\"Número de Temas\")\n",
    "plt.ylabel(\"Medida de Coherencia\")\n",
    "plt.show()"
   ]
  },
  {
   "cell_type": "code",
   "execution_count": 77,
   "id": "f24afa25",
   "metadata": {},
   "outputs": [
    {
     "data": {
      "text/plain": [
       "8"
      ]
     },
     "execution_count": 77,
     "metadata": {},
     "output_type": "execute_result"
    }
   ],
   "source": [
    "x[np.argmax(valores_c)]"
   ]
  },
  {
   "cell_type": "code",
   "execution_count": 78,
   "id": "f18940ab",
   "metadata": {},
   "outputs": [],
   "source": [
    "def perplejidad_ntemas(dictionary, corpus, texts, start=1, limit=10, step=1):\n",
    " \n",
    "    perplejidad_values = []\n",
    "    model_list = []\n",
    "    \n",
    "    for num_topics in range(start, limit, step):\n",
    "        model = LdaMulticore(corpus=corpus,\n",
    "                        id2word=dictionary,\n",
    "                        num_topics=num_topics, \n",
    "                        random_state=123,\n",
    "                        passes=20)\n",
    "        model_list.append(model)\n",
    "        perplejidad_values.append(np.exp2(-model.log_perplexity(corpus)))\n",
    "\n",
    "    return model_list, perplejidad_values"
   ]
  },
  {
   "cell_type": "code",
   "execution_count": 79,
   "id": "6672ccc7",
   "metadata": {},
   "outputs": [],
   "source": [
    "modelos, valores_p = perplejidad_ntemas(dictionary=dictionary, corpus=corpus, texts=df_blog_clean[\"cuento_clean\"].str.split(), start=inicio, limit=limite, step=paso)"
   ]
  },
  {
   "cell_type": "code",
   "execution_count": 81,
   "id": "6a9d2e3a",
   "metadata": {},
   "outputs": [
    {
     "data": {
      "image/png": "[encoded data removed]",
      "text/plain": [
       "<Figure size 640x480 with 1 Axes>"
      ]
     },
     "metadata": {},
     "output_type": "display_data"
    }
   ],
   "source": [
    "import matplotlib.pyplot as plt\n",
    "# Show graph\n",
    "x = range(inicio, limite, paso)\n",
    "plt.plot(x, valores_p)\n",
    "plt.xlabel(\"Número de Temas\")\n",
    "plt.ylabel(\"Medida de Perplejidad\")\n",
    "\n",
    "plt.show()"
   ]
  },
  {
   "cell_type": "code",
   "execution_count": 83,
   "id": "07448cf5",
   "metadata": {},
   "outputs": [
    {
     "data": {
      "text/plain": [
       "4"
      ]
     },
     "execution_count": 83,
     "metadata": {},
     "output_type": "execute_result"
    }
   ],
   "source": [
    "x[np.argmin(valores_p)]"
   ]
  },
  {
   "cell_type": "code",
   "execution_count": 135,
   "id": "2ce89750",
   "metadata": {},
   "outputs": [],
   "source": [
    "model = LdaMulticore(corpus=corpus,\n",
    "                        id2word=dictionary,\n",
    "                        num_topics=6, \n",
    "                        random_state=123,\n",
    "                        passes=20)"
   ]
  },
  {
   "cell_type": "code",
   "execution_count": 136,
   "id": "fdfb8e76",
   "metadata": {},
   "outputs": [
    {
     "data": {
      "text/plain": [
       "[(0,\n",
       "  '0.015*\"yo\" + 0.011*\"foto\" + 0.009*\"amigo\" + 0.008*\"luna\" + 0.008*\"nino\" + 0.008*\"enfermera\" + 0.007*\"hospital\" + 0.007*\"pensar\" + 0.006*\"voz\" + 0.006*\"viejo\"'),\n",
       " (1,\n",
       "  '0.019*\"caio\" + 0.017*\"zacaria\" + 0.012*\"viejo\" + 0.012*\"nacho\" + 0.012*\"sofi\" + 0.009*\"hijo\" + 0.008*\"chico\" + 0.008*\"venir\" + 0.008*\"llorar\" + 0.007*\"dar\"'),\n",
       " (2,\n",
       "  '0.017*\"mundial\" + 0.017*\"futbol\" + 0.015*\"partido\" + 0.013*\"argentino\" + 0.013*\"gol\" + 0.009*\"jugar\" + 0.008*\"jugador\" + 0.007*\"equipo\" + 0.007*\"pensar\" + 0.006*\"hijo\"'),\n",
       " (3,\n",
       "  '0.011*\"hombre\" + 0.010*\"argentino\" + 0.008*\"pais\" + 0.007*\"espana\" + 0.006*\"morir\" + 0.006*\"television\" + 0.006*\"ocurrir\" + 0.006*\"espanol\" + 0.006*\"guerra\" + 0.005*\"muerte\"'),\n",
       " (4,\n",
       "  '0.015*\"escribir\" + 0.008*\"leer\" + 0.008*\"palabra\" + 0.008*\"llamar\" + 0.007*\"amigo\" + 0.007*\"lector\" + 0.007*\"historia\" + 0.006*\"blog\" + 0.006*\"persona\" + 0.006*\"yo\"'),\n",
       " (5,\n",
       "  '0.010*\"yo\" + 0.009*\"mujer\" + 0.007*\"llegar\" + 0.006*\"mano\" + 0.006*\"tenia\" + 0.006*\"ir\" + 0.005*\"dar\" + 0.005*\"saber\" + 0.005*\"amigo\" + 0.005*\"querer\"')]"
      ]
     },
     "execution_count": 136,
     "metadata": {},
     "output_type": "execute_result"
    }
   ],
   "source": [
    "model.print_topics()"
   ]
  },
  {
   "cell_type": "code",
   "execution_count": 130,
   "id": "f69a1fde",
   "metadata": {},
   "outputs": [],
   "source": [
    "# for word,idx in dictionary.token2id.items():\n",
    "#     print(word,idx)"
   ]
  },
  {
   "cell_type": "code",
   "execution_count": 108,
   "id": "295c6062",
   "metadata": {},
   "outputs": [
    {
     "data": {
      "text/plain": [
       "'mes invitar presentar aires futbol char el director editorial invitar jugar partido metegol invento espanol creador llamar erroneamente futbolin ano jugar metegol suerte tocar companero filosofo prestigioso poder ganar contrincante autor director editorial conocia juventud jugar partido entero destrozar facilidad pasmos ano practicar falso deporte muneca reflejo descubri perdido mana sentir edad destreza mantengar indemne pelotuda convertir noticia char el fotografo imagen partido metegol subir twitter estadio librerio gandhi aire local izquierda duchini gonzalo garz vistant derecha tomar abraham resultado match match palizar volvi recibi mail amigo infancia deciar visto foto sorprendiar companero filosofo admirabar juventud jugar metegol toma abraham pasar sueno deciar partido imagine diecisiete ano mirar ventana libreria gandhi escena futuro sonrei recuerdo momentaneo desconcentro juego justo gol unico recibi defendiar zaga gol molinete gonzalo garz director editorial galerno injusticia festejo cara antideportivo tratar venir cabeza contar sobremesa amigo ocurrir conoci gonzalo adolescente serio ano noventa gustar pasar verano merced pueblo padre ir vacacion dejar amigo llegar viernes madrugada pasar despierto veiar luz habitacion tocar timbre emborrachabar veiar luz entrar ventana cuarto oscura despertar manera horrible tirar agua cara pegar patada panza metiar gato cobija subiar manta empezar bombear yo amante desenfrenado objetivo despertar yo creativo paso conoci gonzalo garz promesa escritor diecisiete ano invitir pasar merced gonzalo cachorro persona fino banado clase acomodado sereno convertido ano dieciseis critico literario joven historia diario porteno nacion prodigio garz conocer casualidad ano integrar antologia joven promesa literario publicado veinte autor adolescente lei cuento unico gustar llamar telefono invitir charlar merced llevar carnaval pueblo carnaval luminoso trist provincia aires pasar accidente nocturno gonzalo garz quedo dormir ofreci habitacion dormir borrachera cama padre recordar rutina madrugada gonzalir chico mozo fragil acosto apago luz ciudad desconocido llanura pampean quedar dormido borracho joven entrario oscura ventana subiriar sodomizar el escuchir grito habitacion padre quedar lejos enterar manana encontre gonzalo cocina desayunar pelo alborotado ayer entro tipo ventana querer fornicar adentro sabana sacar cabeza asustado tipo mirar so dejar fornicar levantar cama pedir disculpa escapar ventana ir ciclomotor marca zanella aparecio mire taza cafe tenia gonzalo mano temblar poner llorar tranquilizar carnaval epoca valer gonzalir susto garz enorme crei olvidado epoca preocupar susto amigo duro ano traumatico creer violar chiste amigo violar chiste promesa literaria menor edad horrible imagen facil subconsciente pobre paso ano gonzalir garz empezo crecer hispanoamericano letra convirtio escritor critico implacable director editorial prestigioso trauma crecio par consagracion garz ano gonzalo gano premio seix barral sintio verguenza violar oscuridad conseguido galardon vargas llos gol gritar gonzalir garz cara metegol mirada maradonian vengativo jama visto mirar camara decirme acordar roto alma gustar carnaval pueblo noviembre'"
      ]
     },
     "execution_count": 108,
     "metadata": {},
     "output_type": "execute_result"
    }
   ],
   "source": [
    "df_blog_clean.iloc[160,:][\"cuento_clean\"]"
   ]
  },
  {
   "cell_type": "code",
   "execution_count": 137,
   "id": "8e04effe",
   "metadata": {},
   "outputs": [],
   "source": [
    "l=[model.get_document_topics(item) for item in corpus]\n",
    "#pd.DataFrame(l)\n",
    "dicts_topicos = [{k: v for k, v in row} for row in l]\n",
    "\n",
    "# Create a DataFrame from the list of dictionaries\n",
    "df_proba_topicos_lda = pd.DataFrame(dicts_topicos)"
   ]
  },
  {
   "cell_type": "code",
   "execution_count": 148,
   "id": "c46c499d",
   "metadata": {},
   "outputs": [
    {
     "data": {
      "text/plain": [
       "4    0.087789\n",
       "5    0.669227\n",
       "0         NaN\n",
       "2    0.240828\n",
       "3         NaN\n",
       "1         NaN\n",
       "Name: 160, dtype: float64"
      ]
     },
     "execution_count": 148,
     "metadata": {},
     "output_type": "execute_result"
    }
   ],
   "source": [
    "df_proba_topicos_lda.iloc[160,:]#.idxmax()#sort_values(ascending=False)"
   ]
  },
  {
   "cell_type": "code",
   "execution_count": 145,
   "id": "04d602f3",
   "metadata": {},
   "outputs": [
    {
     "data": {
      "text/plain": [
       "Index([6, 17, 382, 462, 0], dtype='int64')"
      ]
     },
     "execution_count": 145,
     "metadata": {},
     "output_type": "execute_result"
    }
   ],
   "source": [
    "df_proba_topicos_lda.sort_values(by=5, ascending=False).index[:5]"
   ]
  },
  {
   "cell_type": "code",
   "execution_count": 147,
   "id": "4593bfdf",
   "metadata": {},
   "outputs": [
    {
     "data": {
      "text/html": [
       "<div>\n",
       "<style scoped>\n",
       "    .dataframe tbody tr th:only-of-type {\n",
       "        vertical-align: middle;\n",
       "    }\n",
       "\n",
       "    .dataframe tbody tr th {\n",
       "        vertical-align: top;\n",
       "    }\n",
       "\n",
       "    .dataframe thead th {\n",
       "        text-align: right;\n",
       "    }\n",
       "</style>\n",
       "<table border=\"1\" class=\"dataframe\">\n",
       "  <thead>\n",
       "    <tr style=\"text-align: right;\">\n",
       "      <th></th>\n",
       "      <th>titulo</th>\n",
       "      <th>fecha</th>\n",
       "      <th>cuento</th>\n",
       "      <th>cuento_clean</th>\n",
       "    </tr>\n",
       "  </thead>\n",
       "  <tbody>\n",
       "    <tr>\n",
       "      <th>6</th>\n",
       "      <td>Ropa sucia</td>\n",
       "      <td>5/6/08</td>\n",
       "      <td>Ya de entrada caí mal parado. Vine al mundo ju...</td>\n",
       "      <td>entrada cai parado venir justo ano pobre costu...</td>\n",
       "    </tr>\n",
       "    <tr>\n",
       "      <th>17</th>\n",
       "      <td>Cuento con bruja y tramontina</td>\n",
       "      <td>8/29/08</td>\n",
       "      <td>Íbamos en un taxi por la avenida Álvarez Thoma...</td>\n",
       "      <td>ibar taxi avenida alvarez thoma llegar esquina...</td>\n",
       "    </tr>\n",
       "    <tr>\n",
       "      <th>382</th>\n",
       "      <td>Una docena de tortas negras</td>\n",
       "      <td>5/19/05</td>\n",
       "      <td>Miró a las tres mujeres que esperaban que cort...</td>\n",
       "      <td>mirar mujer esperar cortasar semaforo morocha ...</td>\n",
       "    </tr>\n",
       "    <tr>\n",
       "      <th>462</th>\n",
       "      <td>El miedo</td>\n",
       "      <td>2/14/07</td>\n",
       "      <td>El miedo es un animal dormido que tengo dentro...</td>\n",
       "      <td>miedo animal dormido animal blanco desconfiado...</td>\n",
       "    </tr>\n",
       "    <tr>\n",
       "      <th>0</th>\n",
       "      <td>El rincón blanco</td>\n",
       "      <td>1/11/08</td>\n",
       "      <td>De pronto yo estaba en el hogar donde pasé la ...</td>\n",
       "      <td>hogar infancia saber nariz acostumbrar penumbr...</td>\n",
       "    </tr>\n",
       "  </tbody>\n",
       "</table>\n",
       "</div>"
      ],
      "text/plain": [
       "                            titulo    fecha  \\\n",
       "6                       Ropa sucia   5/6/08   \n",
       "17   Cuento con bruja y tramontina  8/29/08   \n",
       "382    Una docena de tortas negras  5/19/05   \n",
       "462                       El miedo  2/14/07   \n",
       "0                 El rincón blanco  1/11/08   \n",
       "\n",
       "                                                cuento  \\\n",
       "6    Ya de entrada caí mal parado. Vine al mundo ju...   \n",
       "17   Íbamos en un taxi por la avenida Álvarez Thoma...   \n",
       "382  Miró a las tres mujeres que esperaban que cort...   \n",
       "462  El miedo es un animal dormido que tengo dentro...   \n",
       "0    De pronto yo estaba en el hogar donde pasé la ...   \n",
       "\n",
       "                                          cuento_clean  \n",
       "6    entrada cai parado venir justo ano pobre costu...  \n",
       "17   ibar taxi avenida alvarez thoma llegar esquina...  \n",
       "382  mirar mujer esperar cortasar semaforo morocha ...  \n",
       "462  miedo animal dormido animal blanco desconfiado...  \n",
       "0    hogar infancia saber nariz acostumbrar penumbr...  "
      ]
     },
     "execution_count": 147,
     "metadata": {},
     "output_type": "execute_result"
    }
   ],
   "source": [
    "df_blog_clean.iloc[[6, 17, 382, 462, 0]]"
   ]
  },
  {
   "cell_type": "code",
   "execution_count": null,
   "id": "4edb7c36",
   "metadata": {},
   "outputs": [],
   "source": [
    "lda_model_opt = LdaMulticore(corpus = corpus,\n",
    "    id2word = dictionary,\n",
    "    num_topics = 8,\n",
    "    random_state=123)\n",
    "pyLDAvis.enable_notebook()\n",
    "LDA_visualization = gensimvis.prepare(lda_model_opt, corpus, dictionary)\n",
    "LDA_visualization"
   ]
  },
  {
   "cell_type": "code",
   "execution_count": 167,
   "id": "92fd4a82",
   "metadata": {},
   "outputs": [
    {
     "data": {
      "text/plain": [
       "Index([4, 5, 2], dtype='int64')"
      ]
     },
     "execution_count": 167,
     "metadata": {},
     "output_type": "execute_result"
    }
   ],
   "source": [
    "topicos_titulo"
   ]
  },
  {
   "cell_type": "code",
   "execution_count": 166,
   "id": "4b5df5e6",
   "metadata": {},
   "outputs": [
    {
     "data": {
      "text/html": [
       "<div>\n",
       "<style scoped>\n",
       "    .dataframe tbody tr th:only-of-type {\n",
       "        vertical-align: middle;\n",
       "    }\n",
       "\n",
       "    .dataframe tbody tr th {\n",
       "        vertical-align: top;\n",
       "    }\n",
       "\n",
       "    .dataframe thead th {\n",
       "        text-align: right;\n",
       "    }\n",
       "</style>\n",
       "<table border=\"1\" class=\"dataframe\">\n",
       "  <thead>\n",
       "    <tr style=\"text-align: right;\">\n",
       "      <th></th>\n",
       "      <th>titulo</th>\n",
       "      <th>fecha</th>\n",
       "      <th>cuento</th>\n",
       "      <th>cuento_clean</th>\n",
       "    </tr>\n",
       "  </thead>\n",
       "  <tbody>\n",
       "    <tr>\n",
       "      <th>6</th>\n",
       "      <td>Ropa sucia</td>\n",
       "      <td>5/6/08</td>\n",
       "      <td>Ya de entrada caí mal parado. Vine al mundo ju...</td>\n",
       "      <td>entrada cai parado venir justo ano pobre costu...</td>\n",
       "    </tr>\n",
       "    <tr>\n",
       "      <th>117</th>\n",
       "      <td>10.6 segundos</td>\n",
       "      <td>1/29/13</td>\n",
       "      <td>Menos de once segundos antes, cuando el jugado...</td>\n",
       "      <td>segundo jugador argentino recibir companero re...</td>\n",
       "    </tr>\n",
       "    <tr>\n",
       "      <th>110</th>\n",
       "      <td>El segundo cajón</td>\n",
       "      <td>6/13/11</td>\n",
       "      <td>Resulta que no hace mucho publiqué en este blo...</td>\n",
       "      <td>resultar publique blog historia amor ocurrir a...</td>\n",
       "    </tr>\n",
       "    <tr>\n",
       "      <th>15</th>\n",
       "      <td>Backstage de un milagro menor</td>\n",
       "      <td>8/11/08</td>\n",
       "      <td>Voy a contar algo que ocurrió hace un mes y qu...</td>\n",
       "      <td>contar ocurrio mes parecer milagro entrecasa n...</td>\n",
       "    </tr>\n",
       "    <tr>\n",
       "      <th>353</th>\n",
       "      <td>Lado A: música ligera</td>\n",
       "      <td>8/24/04</td>\n",
       "      <td>El mismo día que a Maradona lo echaron del Mun...</td>\n",
       "      <td>maradona echar mundial cansir comprar olivetti...</td>\n",
       "    </tr>\n",
       "  </tbody>\n",
       "</table>\n",
       "</div>"
      ],
      "text/plain": [
       "                            titulo    fecha  \\\n",
       "6                       Ropa sucia   5/6/08   \n",
       "117                  10.6 segundos  1/29/13   \n",
       "110               El segundo cajón  6/13/11   \n",
       "15   Backstage de un milagro menor  8/11/08   \n",
       "353          Lado A: música ligera  8/24/04   \n",
       "\n",
       "                                                cuento  \\\n",
       "6    Ya de entrada caí mal parado. Vine al mundo ju...   \n",
       "117  Menos de once segundos antes, cuando el jugado...   \n",
       "110  Resulta que no hace mucho publiqué en este blo...   \n",
       "15   Voy a contar algo que ocurrió hace un mes y qu...   \n",
       "353  El mismo día que a Maradona lo echaron del Mun...   \n",
       "\n",
       "                                          cuento_clean  \n",
       "6    entrada cai parado venir justo ano pobre costu...  \n",
       "117  segundo jugador argentino recibir companero re...  \n",
       "110  resultar publique blog historia amor ocurrir a...  \n",
       "15   contar ocurrio mes parecer milagro entrecasa n...  \n",
       "353  maradona echar mundial cansir comprar olivetti...  "
      ]
     },
     "execution_count": 166,
     "metadata": {},
     "output_type": "execute_result"
    }
   ],
   "source": [
    "fltr_condicion = df_proba_topicos_lda.iloc[160,:].isna()\n",
    "topicos_titulo = df_proba_topicos_lda.columns[~fltr_condicion]\n",
    "\n",
    "idx_sugerencias_lda = df_proba_topicos_lda.loc[:,topicos_titulo].sum(axis=1).sort_values(ascending=False)[:5].index\n",
    "df_blog_clean.iloc[idx_sugerencias_lda,:]"
   ]
  },
  {
   "cell_type": "code",
   "execution_count": 165,
   "id": "ecd2237d",
   "metadata": {},
   "outputs": [
    {
     "data": {
      "text/plain": [
       "Index([6, 117, 110, 15, 353], dtype='int64')"
      ]
     },
     "execution_count": 165,
     "metadata": {},
     "output_type": "execute_result"
    }
   ],
   "source": [
    "idx_sugerencias_lda"
   ]
  },
  {
   "cell_type": "code",
   "execution_count": null,
   "id": "269247ce",
   "metadata": {},
   "outputs": [],
   "source": []
  },
  {
   "cell_type": "markdown",
   "metadata": {},
   "source": [
    "(Utilice este espacio para describir el procedimiento, análisis, y conclusiones)"
   ]
  },
  {
   "cell_type": "markdown",
   "metadata": {},
   "source": [
    "### 4 Recomendaciones generales\n",
    "\n",
    "De acuerdo con los resultados encontrados, en su opinión ¿qué procedimiento generó las mejores recomendaciones para la entrada elegida? ¿Cómo implementaría una evaluación objetiva de estas recomendaciones? Justifique su respuesta."
   ]
  },
  {
   "cell_type": "markdown",
   "metadata": {},
   "source": [
    "(Utilice este espacio para describir su procedimiento)"
   ]
  }
 ],
 "metadata": {
  "kernelspec": {
   "display_name": "Python 3 (ipykernel)",
   "language": "python",
   "name": "python3"
  },
  "language_info": {
   "codemirror_mode": {
    "name": "ipython",
    "version": 3
   },
   "file_extension": ".py",
   "mimetype": "text/x-python",
   "name": "python",
   "nbconvert_exporter": "python",
   "pygments_lexer": "ipython3",
   "version": "3.10.13"
  },
  "toc": {
   "base_numbering": 1,
   "nav_menu": {},
   "number_sections": true,
   "sideBar": true,
   "skip_h1_title": false,
   "title_cell": "Table of Contents",
   "title_sidebar": "Contents",
   "toc_cell": false,
   "toc_position": {},
   "toc_section_display": true,
   "toc_window_display": false
  }
 },
 "nbformat": 4,
 "nbformat_minor": 5
}
